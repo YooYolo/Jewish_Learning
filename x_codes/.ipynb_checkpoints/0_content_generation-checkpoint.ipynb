{
 "cells": [
  {
   "cell_type": "code",
   "execution_count": 1,
   "id": "d920c614",
   "metadata": {},
   "outputs": [],
   "source": [
    "import os\n",
    "import glob\n",
    "import pandas as pd\n",
    "from datetime import datetime"
   ]
  },
  {
   "cell_type": "code",
   "execution_count": 2,
   "id": "7eea4902",
   "metadata": {},
   "outputs": [],
   "source": [
    "main_page_link = \"https://yooyolo.github.io/Jewish_Learning/\""
   ]
  },
  {
   "cell_type": "markdown",
   "id": "6f341cbc",
   "metadata": {},
   "source": [
    "*Path setup*"
   ]
  },
  {
   "cell_type": "code",
   "execution_count": 3,
   "id": "5735865f",
   "metadata": {},
   "outputs": [],
   "source": [
    "table_dir = \"../z_tables\""
   ]
  },
  {
   "cell_type": "code",
   "execution_count": 4,
   "id": "7969fe87",
   "metadata": {},
   "outputs": [],
   "source": [
    "readme = \"%s/0_README.csv\"%table_dir\n",
    "readme_df = pd.read_csv(readme, index_col=0)"
   ]
  },
  {
   "cell_type": "markdown",
   "id": "4c99ff71",
   "metadata": {},
   "source": [
    "*Check if associated files exist or not*"
   ]
  },
  {
   "cell_type": "code",
   "execution_count": 5,
   "id": "7b423b82",
   "metadata": {},
   "outputs": [],
   "source": [
    "for i in readme_df.index:\n",
    "    i_topic = readme_df['Topic'].loc[i]\n",
    "    i_topic_filename = i_topic.replace(\" \", \"_\")\n",
    "    \n",
    "    # For each topic, if folder doesn't exist, create the folder\n",
    "    i_folder = \"../%s_%s\"%(i, i_topic_filename)\n",
    "    if not os.path.exists(i_folder):\n",
    "        os.mkdir(i_folder)\n",
    "        \n",
    "    # For each topic, if table of contents doesn't exist, create the table\n",
    "    i_contents = \"%s/%s_%s_contents.csv\"%(table_dir, i, i_topic_filename)\n",
    "    if not os.path.exists(i_contents):\n",
    "        pd.DataFrame({\"order\":[], \"name\":[], \"description\":[]}).to_csv(i_contents, index=False)    \n",
    "    \n",
    "    # For each topic, if table of reference information doesn't exist, create the table\n",
    "    i_ref = \"%s/%s_%s_ref.csv\"%(table_dir, i, i_topic_filename)\n",
    "    if not os.path.exists(i_ref):\n",
    "        pd.DataFrame({\"name\":[], \"type\":[], \"link\":[], \"notes\":[], \"keywords\":[]}).to_csv(i_ref, index=False)\n",
    "    \n",
    "    # For each topic, if table of ChatGPT Q&A and output doesn't exist, create the table\n",
    "    i_gpt = \"%s/%s_%s_chatGPT_Q&A.csv\"%(table_dir, i, i_topic_filename)\n",
    "    if not os.path.exists(i_gpt):\n",
    "        pd.DataFrame({\"label\":[], \"prompt\":[], \"answer\":[], \"notes\":[], \"keywords\":[]}).to_csv(i_gpt, index=False)\n",
    "        \n",
    "    # For each topic, if folder of ChatGPT Q&A and output doesn't exist, create the folder\n",
    "    i_gpt_folder = \"../y_ChatGPT_Q&A/%s_%s\"%(i, i_topic_filename)\n",
    "    if not os.path.exists(i_gpt_folder):\n",
    "        os.mkdir(i_gpt_folder)"
   ]
  },
  {
   "cell_type": "markdown",
   "id": "a25294cd",
   "metadata": {},
   "source": [
    "*Generate GPT Q&A markdowns*"
   ]
  },
  {
   "cell_type": "code",
   "execution_count": 6,
   "id": "422dd007",
   "metadata": {},
   "outputs": [],
   "source": [
    "gpt_files = glob.glob(\"%s/*_chatGPT_Q&A.csv\"%table_dir)\n",
    "gpt_dir = \"../y_ChatGPT_Q&A\"\n",
    "\n",
    "\n",
    "gpt_file = \"../z_tables/10_Interaction_and_Relationships_with_Other_Religions_and_Cultures_chatGPT_Q&A.csv\"\n",
    "for gpt_file in gpt_files:\n",
    "    gpt_file_chapter = gpt_file.split(\"/\")[-1].replace(\"_chatGPT_Q&A.csv\",\"\")\n",
    "    gpt_md_dir = \"../y_ChatGPT_Q&A/%s\"%gpt_file_chapter\n",
    "    \n",
    "    gpt_df = pd.read_csv(gpt_file)\n",
    "    if len(gpt_df) > 0:\n",
    "        # Create GPT Q&A summary markdown file\n",
    "        gpt_md_sum = \"%s/%s.md\"%(gpt_dir,gpt_file_chapter)\n",
    "        with open(gpt_md_sum, 'w') as file:\n",
    "            file.write(\"[Main Page](%s)\\n\"%main_page_link)\n",
    "            file.write(\"# %s\\n\"%gpt_file_chapter.replace(\"_\", \" \"))\n",
    "            file.write(\"> ChatGPT Q&A <br>\\n\\n\")\n",
    "\n",
    "            for i in gpt_df.index:\n",
    "                i_label, i_prompt, i_answer, i_key = gpt_df.loc[i][['label', 'prompt', 'answer', 'keywords']]\n",
    "                i_link_file = \"%s/%s.md\"%(gpt_file_chapter, i_label)\n",
    "                file.write(\"%s. __[[%s](%s)]__ %s\\n\"%(i+1, i_label, i_link_file, i_prompt))\n",
    "\n",
    "                # Write GPT Q&A individual markdown file\n",
    "                gpt_md_i = \"%s/%s/%s.md\"%(gpt_dir,gpt_file_chapter,i_label)\n",
    "                with open(gpt_md_i, 'w') as i_file:\n",
    "                    i_file.write(\"[Main Page](%s)\\n\"%main_page_link)\n",
    "                    i_file.write(\"# %s\\n\"%i_prompt)\n",
    "                    i_file.write(\"*Keywords:*\\n\")\n",
    "                    i_file.write(\"`\" + str(i_key).replace(\",\", \"`, `\") + \"`\"+\"\\n\\n\")\n",
    "                    if str(i_answer) != 'nan':\n",
    "                        i_file.write(i_answer)\n",
    "                    else:\n",
    "                        i_file.write(\"To be updated\")"
   ]
  },
  {
   "cell_type": "markdown",
   "id": "1da87e9c",
   "metadata": {},
   "source": [
    "*Generate Readme file*"
   ]
  },
  {
   "cell_type": "code",
   "execution_count": 7,
   "id": "ca863ad7",
   "metadata": {},
   "outputs": [],
   "source": [
    "readme_out = \"../README.md\"\n",
    "\n",
    "with open(readme_out, 'w') as file:\n",
    "    ### Write header\n",
    "    file.write(\"[Main Page](%s)\\n\"%main_page_link)\n",
    "    file.write(\"# Jewish Learning\\n\")\n",
    "    file.write(\"> Author: Yolo <br>\\n\")\n",
    "    file.write(\"> Last update: %s<br>\\n\\n\"%datetime.now().strftime(\"%m/%d/%Y\"))\n",
    "    \n",
    "    ### Write for each topic\n",
    "    for i in readme_df.index:\n",
    "        i_topic = readme_df['Topic'].loc[i]\n",
    "        i_topic_filename = i_topic.replace(\" \", \"_\")\n",
    "        i_folder = \"../%s_%s\"%(i, i_topic_filename)\n",
    "        \n",
    "        file.write(\"\\n## %s. %s\\n\"%(i, i_topic))\n",
    "        file.write(\"*[ChatGPT Q&A](y_ChatGPT_Q&A/%s_%s.md)*\\n\\n\"%(i, i_topic_filename))\n",
    "        \n",
    "        # Write contents\n",
    "        i_contents_file = \"%s/%s_%s_contents.csv\"%(table_dir, i, i_topic_filename)\n",
    "        i_contents_table = pd.read_csv(i_contents_file, index_col=0)\n",
    "        file.write(\"| Content | Description |\\n\")\n",
    "        file.write(\"| ------- | ----------- |\\n\")\n",
    "        for j in i_contents_table.index:\n",
    "            j_name, j_desc = i_contents_table.loc[j]\n",
    "            j_name_simp = j_name.replace(\"(\",\"\").replace(\")\",\"\").replace(\" \",\"_\").strip()\n",
    "            j_file = \"%s/%s.md\"%(i_folder, j_name_simp)\n",
    "            if os.path.exists(j_file):\n",
    "                j_name = \"[%s](%s)\"%(j_name, j_file)\n",
    "            file.write(\"| __%s__ | %s |\\n\"%(j_name, j_desc))\n",
    "        if len(i_contents_table) < 1:\n",
    "            file.write(\"| __NA__ | NA |\\n\")\n",
    "            \n",
    "        # Write references\n",
    "        file.write(\"\\n### References\\n\")\n",
    "        i_ref_file = \"../z_tables/%s_%s_ref.csv\"%(i, i_topic_filename)\n",
    "        i_ref_df = pd.read_csv(i_ref_file)\n",
    "        if len(i_ref_df) > 0:\n",
    "            for j in i_ref_df.index:\n",
    "                j_name, j_type, j_link, j_notes, j_keywords = i_ref_df.loc[j]\n",
    "                file.write(\"- [%s] __[%s](%s)__ \"%(j_type, j_name, j_link))\n",
    "                file.write(\"`\" + str(j_keywords).replace(\",\", \"`, `\") + \"`\"+\"\\n\")\n",
    "        \n",
    "\n",
    "        "
   ]
  },
  {
   "cell_type": "code",
   "execution_count": null,
   "id": "ee327002",
   "metadata": {},
   "outputs": [],
   "source": []
  },
  {
   "cell_type": "code",
   "execution_count": null,
   "id": "f8d54856",
   "metadata": {},
   "outputs": [],
   "source": []
  },
  {
   "cell_type": "code",
   "execution_count": null,
   "id": "3abbf9a9",
   "metadata": {},
   "outputs": [],
   "source": []
  }
 ],
 "metadata": {
  "kernelspec": {
   "display_name": "plotting",
   "language": "python",
   "name": "plotting"
  },
  "language_info": {
   "codemirror_mode": {
    "name": "ipython",
    "version": 3
   },
   "file_extension": ".py",
   "mimetype": "text/x-python",
   "name": "python",
   "nbconvert_exporter": "python",
   "pygments_lexer": "ipython3",
   "version": "3.10.2"
  }
 },
 "nbformat": 4,
 "nbformat_minor": 5
}
