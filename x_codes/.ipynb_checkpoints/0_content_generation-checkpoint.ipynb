{
 "cells": [
  {
   "cell_type": "code",
   "execution_count": 39,
   "id": "65ca38c9",
   "metadata": {},
   "outputs": [],
   "source": [
    "import os\n",
    "import glob\n",
    "import pandas as pd\n",
    "from datetime import datetime"
   ]
  },
  {
   "cell_type": "code",
   "execution_count": 46,
   "id": "dffd8adf",
   "metadata": {},
   "outputs": [],
   "source": [
    "main_page_link = \"https://yolanda-ht.github.io/Jewish_Learning/\""
   ]
  },
  {
   "cell_type": "markdown",
   "id": "87da15a7",
   "metadata": {},
   "source": [
    "*Path setup*"
   ]
  },
  {
   "cell_type": "code",
   "execution_count": 4,
   "id": "c8dffa7c",
   "metadata": {},
   "outputs": [],
   "source": [
    "table_dir = \"../z_tables\""
   ]
  },
  {
   "cell_type": "code",
   "execution_count": 7,
   "id": "983d4852",
   "metadata": {},
   "outputs": [],
   "source": [
    "readme = \"%s/0_README.csv\"%table_dir\n",
    "readme_df = pd.read_csv(readme, index_col=0)"
   ]
  },
  {
   "cell_type": "markdown",
   "id": "b431c771",
   "metadata": {},
   "source": [
    "*Check if associated files exist or not*"
   ]
  },
  {
   "cell_type": "code",
   "execution_count": 75,
   "id": "a4e24739",
   "metadata": {},
   "outputs": [],
   "source": [
    "for i in readme_df.index:\n",
    "    i_topic = readme_df['Topic'].loc[i]\n",
    "    i_topic_filename = i_topic.replace(\" \", \"_\")\n",
    "    \n",
    "    # For each topic, if table of reference information doesn't exist, create the table\n",
    "    i_ref = \"%s/%s_%s_ref.csv\"%(table_dir, i, i_topic_filename)\n",
    "    if not os.path.exists(i_ref):\n",
    "        pd.DataFrame({\"name\":[], \"type\":[], \"link\":[], \"notes\":[], \"keywords\":[]}).to_csv(i_ref, index=False)\n",
    "    \n",
    "    # For each topic, if table of ChatGPT Q&A and output doesn't exist, create the table\n",
    "    i_gpt = \"%s/%s_%s_chatGPT_Q&A.csv\"%(table_dir, i, i_topic_filename)\n",
    "    if not os.path.exists(i_gpt):\n",
    "        pd.DataFrame({\"label\":[], \"prompt\":[], \"answer\":[], \"notes\":[], \"keywords\":[]}).to_csv(i_gpt, index=False)\n",
    "        \n",
    "    # For each topic, if folder of ChatGPT Q&A and output doesn't exist, create the folder\n",
    "    i_gpt_folder = \"../y_ChatGPT_Q&A/%s_%s\"%(i, i_topic_filename)\n",
    "    if not os.path.exists(i_gpt_folder):\n",
    "        os.mkdir(i_gpt_folder)"
   ]
  },
  {
   "cell_type": "markdown",
   "id": "13569c3f",
   "metadata": {},
   "source": [
    "*Generate GPT Q&A markdowns*"
   ]
  },
  {
   "cell_type": "code",
   "execution_count": 68,
   "id": "57cbffb6",
   "metadata": {},
   "outputs": [],
   "source": [
    "gpt_files = glob.glob(\"%s/*_chatGPT_Q&A.csv\"%table_dir)\n",
    "gpt_dir = \"../y_ChatGPT_Q&A\"\n",
    "\n",
    "\n",
    "gpt_file = \"../z_tables/10_Interaction_and_Relationships_with_Other_Religions_and_Cultures_chatGPT_Q&A.csv\"\n",
    "for gpt_file in gpt_files:\n",
    "    gpt_file_chapter = gpt_file.split(\"/\")[-1].replace(\"_chatGPT_Q&A.csv\",\"\")\n",
    "    gpt_md_dir = \"../y_ChatGPT_Q&A/%s\"%gpt_file_chapter\n",
    "    \n",
    "    gpt_df = pd.read_csv(gpt_file)\n",
    "    if len(gpt_df) > 0:\n",
    "        # Create GPT Q&A summary markdown file\n",
    "        gpt_md_sum = \"%s/%s.md\"%(gpt_dir,gpt_file_chapter)\n",
    "        with open(gpt_md_sum, 'w') as file:\n",
    "            file.write(\"[Main Page](%s)\\n\"%main_page_link)\n",
    "            file.write(\"# %s\\n\"%gpt_file_chapter.replace(\"_\", \" \"))\n",
    "            file.write(\"> ChatGPT Q&A <br>\\n\\n\")\n",
    "\n",
    "            for i in gpt_df.index:\n",
    "                i_label, i_prompt, i_answer, i_key = gpt_df.loc[i][['label', 'prompt', 'answer', 'keywords']]\n",
    "                i_link_file = \"%s/%s.md\"%(gpt_file_chapter, i_label)\n",
    "                file.write(\"%s. __[[%s](%s)]__ %s\\n\"%(i+1, i_label, i_link_file, i_prompt))\n",
    "\n",
    "                # Write GPT Q&A individual markdown file\n",
    "                gpt_md_i = \"%s/%s/%s.md\"%(gpt_dir,gpt_file_chapter,i_label)\n",
    "                with open(gpt_md_i, 'w') as i_file:\n",
    "                    i_file.write(\"[Main Page](%s)\\n\"%main_page_link)\n",
    "                    i_file.write(\"# %s\\n\"%i_prompt)\n",
    "                    i_file.write(\"*Keywords:*\\n\")\n",
    "                    i_file.write(\"`\" + str(i_key).replace(\",\", \"`, `\") + \"`\"+\"\\n\\n\")\n",
    "                    if str(i_answer) != 'nan':\n",
    "                        i_file.write(i_answer)\n",
    "                    else:\n",
    "                        i_file.write(\"To be updated\")"
   ]
  },
  {
   "cell_type": "markdown",
   "id": "e3305de2",
   "metadata": {},
   "source": [
    "*Generate Readme file*"
   ]
  },
  {
   "cell_type": "code",
   "execution_count": 90,
   "id": "0019eab9",
   "metadata": {},
   "outputs": [],
   "source": [
    "readme_out = \"../README.md\"\n",
    "\n",
    "with open(readme_out, 'w') as file:\n",
    "    file.write(\"[Main Page](%s)\\n\"%main_page_link)\n",
    "    file.write(\"# Jewish Learning\\n\")\n",
    "    file.write(\"> Author: Yolo <br>\\n\")\n",
    "    file.write(\"> Last update: %s<br>\\n\\n\"%datetime.now().strftime(\"%m/%d/%Y\"))\n",
    "    \n",
    "    for i in readme_df.index:\n",
    "        i_topic = readme_df['Topic'].loc[i]\n",
    "        i_topic_filename = i_topic.replace(\" \", \"_\")\n",
    "        \n",
    "        file.write(\"\\n## %s\\n\"%i_topic)\n",
    "        file.write(\"- *[ChatGPT Q&A](y_ChatGPT_Q&A/%s_%s.md)*\\n\\n\"%(i, i_topic_filename))\n",
    "        \n",
    "        i_ref_file = \"../z_tables/%s_%s_ref.csv\"%(i, i_topic_filename)\n",
    "        i_ref_df = pd.read_csv(i_ref_file)\n",
    "        if len(i_ref_df) > 0:\n",
    "            for j in i_ref_df.index:\n",
    "                j_name, j_type, j_link, j_notes, j_keywords = i_ref_df.loc[j]\n",
    "                file.write(\"- [%s] __[%s](%s)__ \"%(j_type, j_name, j_link))\n",
    "                file.write(\"`\" + str(j_keywords).replace(\",\", \"`, `\") + \"`\"+\"\\n\\n\")\n",
    "        "
   ]
  },
  {
   "cell_type": "code",
   "execution_count": 88,
   "id": "14db801d",
   "metadata": {},
   "outputs": [
    {
     "data": {
      "text/plain": [
       "'Prayerbook Hebrew the Easy Way'"
      ]
     },
     "execution_count": 88,
     "metadata": {},
     "output_type": "execute_result"
    }
   ],
   "source": [
    "i_file.write()"
   ]
  },
  {
   "cell_type": "code",
   "execution_count": 84,
   "id": "d635eb04",
   "metadata": {},
   "outputs": [
    {
     "data": {
      "text/html": [
       "<div>\n",
       "<style scoped>\n",
       "    .dataframe tbody tr th:only-of-type {\n",
       "        vertical-align: middle;\n",
       "    }\n",
       "\n",
       "    .dataframe tbody tr th {\n",
       "        vertical-align: top;\n",
       "    }\n",
       "\n",
       "    .dataframe thead th {\n",
       "        text-align: right;\n",
       "    }\n",
       "</style>\n",
       "<table border=\"1\" class=\"dataframe\">\n",
       "  <thead>\n",
       "    <tr style=\"text-align: right;\">\n",
       "      <th></th>\n",
       "      <th>name</th>\n",
       "      <th>type</th>\n",
       "      <th>link</th>\n",
       "      <th>notes</th>\n",
       "      <th>keywords</th>\n",
       "    </tr>\n",
       "  </thead>\n",
       "  <tbody>\n",
       "    <tr>\n",
       "      <th>0</th>\n",
       "      <td>Prayerbook Hebrew the Easy Way</td>\n",
       "      <td>Paper book</td>\n",
       "      <td>https://www.amazon.com/gp/product/0939144328/r...</td>\n",
       "      <td>NaN</td>\n",
       "      <td>Hebrew,Prayer</td>\n",
       "    </tr>\n",
       "  </tbody>\n",
       "</table>\n",
       "</div>"
      ],
      "text/plain": [
       "                             name        type   \n",
       "0  Prayerbook Hebrew the Easy Way  Paper book  \\\n",
       "\n",
       "                                                link  notes       keywords  \n",
       "0  https://www.amazon.com/gp/product/0939144328/r...    NaN  Hebrew,Prayer  "
      ]
     },
     "execution_count": 84,
     "metadata": {},
     "output_type": "execute_result"
    }
   ],
   "source": [
    "pd.read_csv()"
   ]
  },
  {
   "cell_type": "code",
   "execution_count": null,
   "id": "460e2a79",
   "metadata": {},
   "outputs": [],
   "source": []
  }
 ],
 "metadata": {
  "kernelspec": {
   "display_name": "Python [conda env:plotting]",
   "language": "python",
   "name": "conda-env-plotting-py"
  },
  "language_info": {
   "codemirror_mode": {
    "name": "ipython",
    "version": 3
   },
   "file_extension": ".py",
   "mimetype": "text/x-python",
   "name": "python",
   "nbconvert_exporter": "python",
   "pygments_lexer": "ipython3",
   "version": "3.8.17"
  }
 },
 "nbformat": 4,
 "nbformat_minor": 5
}
